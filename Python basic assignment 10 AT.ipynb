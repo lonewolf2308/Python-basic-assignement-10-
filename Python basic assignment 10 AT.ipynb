{
 "cells": [
  {
   "cell_type": "code",
   "execution_count": null,
   "id": "f21f163d",
   "metadata": {},
   "outputs": [],
   "source": [
    "1. How do you distinguish between shutil.copy() and shutil.copytree()?\n"
   ]
  },
  {
   "cell_type": "code",
   "execution_count": null,
   "id": "f3fdc16e",
   "metadata": {},
   "outputs": [],
   "source": [
    "Ans.  The shutil.copy() function will copy a single file, while shutil.copytree() will copy an entire folder, along with all its contents.\n"
   ]
  },
  {
   "cell_type": "code",
   "execution_count": null,
   "id": "b697fb92",
   "metadata": {},
   "outputs": [],
   "source": [
    "2. What function is used to rename files??\n"
   ]
  },
  {
   "cell_type": "code",
   "execution_count": null,
   "id": "13685433",
   "metadata": {},
   "outputs": [],
   "source": [
    "Ans: os.rename() function is used to rename files or directories using a python program, this function takes two arguments src and dest, src represents the name file/directory which we want to rename, whereas dest represents the new name of the file/directory.\n"
   ]
  },
  {
   "cell_type": "code",
   "execution_count": null,
   "id": "8dd725e4",
   "metadata": {},
   "outputs": [],
   "source": [
    "3. What is the difference between the delete functions in the send2trash and shutil modules?\n"
   ]
  },
  {
   "cell_type": "code",
   "execution_count": null,
   "id": "5fcb2386",
   "metadata": {},
   "outputs": [],
   "source": [
    "Ans.  The send2trash functions will move a file or folder to the recycle bin, while shutil functions will permanently delete files and folders.\n"
   ]
  },
  {
   "cell_type": "code",
   "execution_count": null,
   "id": "24358a1e",
   "metadata": {},
   "outputs": [],
   "source": [
    "4.ZipFile objects have a close() method just like File objects’ close() method. What ZipFile method is equivalent to File objects’ open() method?\n"
   ]
  },
  {
   "cell_type": "code",
   "execution_count": null,
   "id": "0c9b4497",
   "metadata": {},
   "outputs": [],
   "source": [
    "Ans: ZipFile Module provides a method called as zipfile.ZipFile() to read and write to zipFiles. it takes arugments lile filename and mode etc zipfile.ZipFile('filename', mode = 'r')\n"
   ]
  },
  {
   "cell_type": "code",
   "execution_count": null,
   "id": "b95644f6",
   "metadata": {},
   "outputs": [],
   "source": [
    "5. Create a programme that searches a folder tree for files with a certain file extension (such as .pdf or .jpg). Copy these files from whatever location they are in to a new folder\n"
   ]
  },
  {
   "cell_type": "code",
   "execution_count": 19,
   "id": "1a071e33",
   "metadata": {},
   "outputs": [
    {
     "name": "stdout",
     "output_type": "stream",
     "text": [
      "Looking in C:\\Users\\acer\\randomFolder for files with extensions of .pdf, .jpg\n"
     ]
    }
   ],
   "source": [
    "import os, shutil\n",
    "\n",
    "def selectiveCopy(folder, extensions, destFolder):\n",
    "        folder = os.path.abspath(folder)\n",
    "        destFolder = os.path.abspath(destFolder)\n",
    "        print('Looking in', folder, 'for files with extensions of', ', '.join(extensions))\n",
    "        for foldername, subfolders, filenames in os.walk(folder):\n",
    "                for filename in filenames:\n",
    "                        name, extension = os.path.splitext(filename)\n",
    "                        if extension in extensions:\n",
    "                                fileAbsPath = foldername + os.path.sep + filename\n",
    "                                print('Coping', fileAbsPath, 'to', destFolder)\n",
    "                                shutil.copy(fileAbsPath, destFolder)\n",
    "\n",
    "extensions = ['.pdf', '.jpg']\n",
    "folder = 'randomFolder'\n",
    "destFolder = 'selectiveFolder'\n",
    "selectiveCopy(folder, extensions, destFolder)"
   ]
  },
  {
   "cell_type": "code",
   "execution_count": null,
   "id": "e3c05a86",
   "metadata": {},
   "outputs": [],
   "source": []
  },
  {
   "cell_type": "code",
   "execution_count": null,
   "id": "6b096686",
   "metadata": {},
   "outputs": [],
   "source": []
  },
  {
   "cell_type": "code",
   "execution_count": null,
   "id": "7202fb85",
   "metadata": {},
   "outputs": [],
   "source": []
  },
  {
   "cell_type": "code",
   "execution_count": null,
   "id": "584b23e5",
   "metadata": {},
   "outputs": [],
   "source": []
  },
  {
   "cell_type": "code",
   "execution_count": null,
   "id": "fa4240b8",
   "metadata": {},
   "outputs": [],
   "source": []
  },
  {
   "cell_type": "code",
   "execution_count": null,
   "id": "5c288cc4",
   "metadata": {},
   "outputs": [],
   "source": []
  },
  {
   "cell_type": "code",
   "execution_count": null,
   "id": "fa8d9a22",
   "metadata": {},
   "outputs": [],
   "source": []
  },
  {
   "cell_type": "code",
   "execution_count": null,
   "id": "b387010f",
   "metadata": {},
   "outputs": [],
   "source": []
  },
  {
   "cell_type": "code",
   "execution_count": null,
   "id": "5af8ea61",
   "metadata": {},
   "outputs": [],
   "source": []
  }
 ],
 "metadata": {
  "kernelspec": {
   "display_name": "Python 3 (ipykernel)",
   "language": "python",
   "name": "python3"
  },
  "language_info": {
   "codemirror_mode": {
    "name": "ipython",
    "version": 3
   },
   "file_extension": ".py",
   "mimetype": "text/x-python",
   "name": "python",
   "nbconvert_exporter": "python",
   "pygments_lexer": "ipython3",
   "version": "3.9.7"
  }
 },
 "nbformat": 4,
 "nbformat_minor": 5
}
